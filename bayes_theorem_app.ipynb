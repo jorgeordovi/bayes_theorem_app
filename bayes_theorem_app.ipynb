{
 "cells": [
  {
   "cell_type": "markdown",
   "metadata": {},
   "source": [
    "### Applied Bayes Theoremfor ML desease forecast"
   ]
  },
  {
   "cell_type": "markdown",
   "metadata": {},
   "source": [
    "$$ P(B_j|A) = \\frac{P(\\textrm{A }| \\textrm{ B}_j)\\times P(\\textrm{B}_j)}{\\sum^n_{i=1} P(\\textrm{A}|{B})\\times P({B_i})}"
   ]
  },
  {
   "cell_type": "code",
   "execution_count": null,
   "metadata": {},
   "outputs": [],
   "source": [
    "P_Enfermedad= 0.01\n",
    "P_Positivo_dado_Enfermedad=0.95\n",
    "P_Positivo_dado_No_Enfermedad=0.10\n",
    "\n",
    "P_No_Enfermedad= 1- P_Enfermedad\n",
    "\n",
    "P_Positivo=(P_Positivo_dado_Enfermedad*P_Enfermedad)+(P_Positivo_dado_No_Enfermedad*P_No_Enfermedad)\n",
    "\n",
    "P_Enfermedad_dado_Positivo=(P_Positivo_dado_Enfermedad*P_Enfermedad)/P_Positivo\n",
    "\n",
    "P_Positivo, P_Enfermedad_dado_Positivo"
   ]
  },
  {
   "cell_type": "code",
   "execution_count": null,
   "metadata": {},
   "outputs": [],
   "source": []
  },
  {
   "cell_type": "code",
   "execution_count": null,
   "metadata": {},
   "outputs": [],
   "source": []
  }
 ],
 "metadata": {
  "kernelspec": {
   "display_name": "Python 3 (ipykernel)",
   "language": "python",
   "name": "python3"
  }
 },
 "nbformat": 4,
 "nbformat_minor": 2
}
